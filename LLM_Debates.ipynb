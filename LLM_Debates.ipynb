{
  "nbformat": 4,
  "nbformat_minor": 0,
  "metadata": {
    "colab": {
      "provenance": []
    },
    "kernelspec": {
      "name": "python3",
      "display_name": "Python 3"
    },
    "language_info": {
      "name": "python"
    }
  },
  "cells": [
    {
      "cell_type": "code",
      "source": [
        "!pip install langgraph langchain"
      ],
      "metadata": {
        "id": "OXtcX2gfi5zy"
      },
      "execution_count": null,
      "outputs": []
    },
    {
      "cell_type": "code",
      "execution_count": null,
      "metadata": {
        "id": "8re5tELGiX-2"
      },
      "outputs": [],
      "source": [
        "from huggingface_hub import InferenceClient"
      ]
    },
    {
      "cell_type": "code",
      "source": [
        "def model(APIKEY):\n",
        "\n",
        "    return InferenceClient(\n",
        "        model=\"meta-llama/Meta-Llama-3-8B-Instruct\",\n",
        "        token=APIKEY\n",
        "    )\n",
        "\n",
        "client=model(\"hf_tsgvbdlakn...\")   # Enter your HuggingFace API here..."
      ],
      "metadata": {
        "id": "Nyw41RV2icDV"
      },
      "execution_count": null,
      "outputs": []
    },
    {
      "cell_type": "code",
      "source": [
        "def Generate(role, message,max_tokens=50):\n",
        "    system_prompt=f\"You are a {role}. Respond to the topic in your own perspective.\"\n",
        "    response=client.chat.completions.create(\n",
        "        messages=[\n",
        "            {\"role\": \"system\", \"content\": system_prompt},\n",
        "            {\"role\": \"user\", \"content\": message},\n",
        "        ],\n",
        "        max_tokens=max_tokens,\n",
        "    )\n",
        "    return response.choices[0].message.content.strip()"
      ],
      "metadata": {
        "id": "gSCobgLXifZ5"
      },
      "execution_count": null,
      "outputs": []
    },
    {
      "cell_type": "code",
      "source": [
        "from langgraph.graph import StateGraph\n",
        "from langchain_core.runnables import RunnableLambda\n",
        "\n",
        "def run_debate(topic, rounds=4):\n",
        "    print(f\"\\n\\nEnter topic for debate: {topic}\")\n",
        "    print(\"Starting debate between Scientist and Philosopher...\\n\")\n",
        "\n",
        "    history=[]\n",
        "    last_msg=f\"The debate topic is: {topic}\"\n",
        "\n",
        "    scientist_node=RunnableLambda(lambda x: Generate(\"scientist\", x).split('\\n')[0])\n",
        "    philosopher_node=RunnableLambda(lambda x: Generate(\"philosopher\", x).split('\\n')[0])\n",
        "    judge_node=RunnableLambda(lambda x: Generate(\"judge\", x, max_tokens=200))\n",
        "\n",
        "    graph=StateGraph(dict)\n",
        "\n",
        "    graph.add_node(\"Scientist\", scientist_node)\n",
        "    graph.add_node(\"Philosopher\", philosopher_node)\n",
        "\n",
        "    graph.set_entry_point(\"Scientist\")\n",
        "    graph.add_edge(\"Scientist\", \"Philosopher\")\n",
        "    graph.add_edge(\"Philosopher\", \"Scientist\")\n",
        "\n",
        "    debate_graph=graph.compile()\n",
        "\n",
        "    for i in range(rounds):\n",
        "        print('---' * 40)\n",
        "        print(f\"[Round {i+1}]\\n\")\n",
        "\n",
        "        scientist_msg=scientist_node.invoke(last_msg)\n",
        "        print(f\"-> Scientist: {scientist_msg}\\n\")\n",
        "        history.append((\"Scientist\", scientist_msg))\n",
        "\n",
        "        philosopher_msg=philosopher_node.invoke(scientist_msg)\n",
        "        print(f\"-> Philosopher: {philosopher_msg}\\n\")\n",
        "        history.append((\"Philosopher\", philosopher_msg))\n",
        "\n",
        "        last_msg=philosopher_msg\n",
        "\n",
        "    print('---' * 40 + \"\\n\")\n",
        "    debate_transcript=\"\\n\".join([f\"{role}: {msg}\" for role, msg in history])\n",
        "    judge_msg=judge_node.invoke(f\"Summarize and decide the winner of the following debate:\\n{debate_transcript}\")\n",
        "    print(f\"[Judge] Summary of debate:\\n\\n{judge_msg}\")"
      ],
      "metadata": {
        "id": "8XpuMBzCiwI1"
      },
      "execution_count": null,
      "outputs": []
    },
    {
      "cell_type": "code",
      "source": [
        "run_debate(\"Should AI be regulated like medicine?\")"
      ],
      "metadata": {
        "colab": {
          "base_uri": "https://localhost:8080/"
        },
        "id": "bFepoznPjAX5",
        "outputId": "7564c82b-436c-4428-9023-d17a93b11321"
      },
      "execution_count": null,
      "outputs": [
        {
          "output_type": "stream",
          "name": "stdout",
          "text": [
            "\n",
            "\n",
            "Enter topic for debate: Should AI be regulated like medicine?\n",
            "Starting debate between Scientist and Philosopher...\n",
            "\n",
            "------------------------------------------------------------------------------------------------------------------------\n",
            "[Round 1]\n",
            "\n"
          ]
        },
        {
          "output_type": "stream",
          "name": "stderr",
          "text": [
            "/usr/local/lib/python3.11/dist-packages/huggingface_hub/utils/_auth.py:94: UserWarning: \n",
            "The secret `HF_TOKEN` does not exist in your Colab secrets.\n",
            "To authenticate with the Hugging Face Hub, create a token in your settings tab (https://huggingface.co/settings/tokens), set it as secret in your Google Colab and restart your session.\n",
            "You will be able to reuse this secret in all of your notebooks.\n",
            "Please note that authentication is recommended but still optional to access public models or datasets.\n",
            "  warnings.warn(\n"
          ]
        },
        {
          "output_type": "stream",
          "name": "stdout",
          "text": [
            "-> Scientist: As a scientist, I firmly believe that regulating AI in a similar manner to medicine is a crucial step towards ensuring its safe and responsible development and deployment. Here's why:\n",
            "\n",
            "-> Philosopher: A fascinating convergence of philosophical and scientific perspectives.  As a philosopher, I must say that I both agree and disagree with your stance on regulating AI in a similar manner to medicine. \n",
            "\n",
            "------------------------------------------------------------------------------------------------------------------------\n",
            "[Round 2]\n",
            "\n",
            "-> Scientist: I'm delighted to engage in a discussion that bridges the realms of philosophy and science.  As a scientist, I've long been intrigued by the parallels between the development of artificial intelligence (AI) and the evolution of medical practices.\n",
            "\n",
            "-> Philosopher: What a fascinating intersection of two disciplines that often seem worlds apart.  The parallels you've drawn between the development of artificial intelligence and the evolution of medical practices are indeed thought-provoking.\n",
            "\n",
            "------------------------------------------------------------------------------------------------------------------------\n",
            "[Round 3]\n",
            "\n",
            "-> Scientist: I'm glad you find the connection interesting.  As a scientist, I've been studying the evolution of artificial intelligence and its parallels with medical practices. At first glance, AI and medicine may seem like unrelated fields, but upon closer inspection, it becomes\n",
            "\n",
            "-> Philosopher: The intersection of artificial intelligence and medicine is a fascinating area of study, and one that resonates deeply with philosophical inquiry. As a philosopher, I'd like to add a layer of depth to this connection.\n",
            "\n",
            "------------------------------------------------------------------------------------------------------------------------\n",
            "[Round 4]\n",
            "\n",
            "-> Scientist: The intersection of artificial intelligence (AI) and medicine is a fascinating area of study, indeed. As a scientist, I'd like to delve into the technical aspects of this intersection, while also acknowledging the philosophical implications that underlie it.\n",
            "\n",
            "-> Philosopher: The convergence of artificial intelligence (AI) and medicine – a realm where the abstract and the tangible converge, where the machine and the human intersect. As a philosopher, I shall endeavor to excavate the underlying philosophical implications that underscore this domain, while also\n",
            "\n",
            "------------------------------------------------------------------------------------------------------------------------\n",
            "\n",
            "[Judge] Summary of debate:\n",
            "\n",
            "After carefully reviewing the debate between the scientist and the philosopher, I have come to a conclusion that it's a draw. Both participants presented compelling arguments, and their discussion highlighted the complexities of regulating AI in a similar manner to medicine.\n",
            "\n",
            "The scientist presented a strong case for regulating AI in a manner similar to medicine, highlighting the potential risks and benefits associated with AI development and deployment. They emphasized the need for a comprehensive framework to ensure the safe and responsible development of AI.\n",
            "\n",
            "On the other hand, the philosopher offered a nuanced and thought-provoking perspective, exploring the philosophical implications of the intersection of AI and medicine. They added depth to the conversation, highlighting the abstract and tangible aspects of this domain.\n",
            "\n",
            "However, in my opinion, the debate lacked a clear winner due to several reasons. Firstly, both participants presented a mix of concrete arguments and philosophical musings, making it challenging to determine a clear victor. Secondly, the discussion was more focused on exploring the intersection of AI and medicine rather than directly addressing\n"
          ]
        }
      ]
    }
  ]
}